{
 "cells": [
  {
   "cell_type": "code",
   "execution_count": 53,
   "metadata": {},
   "outputs": [],
   "source": [
    "# Problem 1\n",
    "\n",
    "class Person:\n",
    "    def __init__(self, name, last_name, age, gender, student, password):\n",
    "        self.name = name\n",
    "        self.last_name = last_name\n",
    "        self.age = age\n",
    "        self.gender = gender\n",
    "        self.student = student\n",
    "        self.__password = password\n",
    "        \n",
    "    def Greeting(self, second_person):\n",
    "        print('Welcome dear', second_person.name)\n",
    "        \n",
    "    def Goodbye(self):\n",
    "        print('Bye everyone!')\n",
    "        \n",
    "    def Favourite_num(self, num1):\n",
    "        print('My favourite number is', num1)\n",
    "    \n",
    "    def Read_file(self, filename):\n",
    "        file1 = filename + '.txt'\n",
    "        f = open(file1, \"r\")\n",
    "        print(f.read())\n",
    "        \n",
    "    def set_code(self, new_code):\n",
    "        self.__password = new_code\n",
    "    \n",
    "    def get_code(self):\n",
    "        return self.__password\n",
    "        \n",
    "        "
   ]
  },
  {
   "cell_type": "code",
   "execution_count": 54,
   "metadata": {},
   "outputs": [
    {
     "name": "stdout",
     "output_type": "stream",
     "text": [
      "Welcome dear Anna\n",
      "Bye everyone!\n",
      "My favourite number is 7\n",
      "Read from file!\n",
      "Hello!\n"
     ]
    }
   ],
   "source": [
    "second_person = Person(\"Anna\",\"Smith\",18,'female',True,'security2')\n",
    "second_person.Greeting(second_person)\n",
    "second_person.Goodbye()\n",
    "second_person.Favourite_num(7)\n",
    "second_person.Read_file('hello')"
   ]
  },
  {
   "cell_type": "code",
   "execution_count": 55,
   "metadata": {},
   "outputs": [
    {
     "data": {
      "text/plain": [
       "'security2'"
      ]
     },
     "execution_count": 55,
     "metadata": {},
     "output_type": "execute_result"
    }
   ],
   "source": [
    "second_person.get_code()"
   ]
  },
  {
   "cell_type": "code",
   "execution_count": 56,
   "metadata": {},
   "outputs": [
    {
     "name": "stdout",
     "output_type": "stream",
     "text": [
      "security222\n"
     ]
    }
   ],
   "source": [
    "second_person.set_code('security222')\n",
    "print(second_person._Person__password)"
   ]
  },
  {
   "cell_type": "code",
   "execution_count": 57,
   "metadata": {},
   "outputs": [
    {
     "data": {
      "text/plain": [
       "'security222'"
      ]
     },
     "execution_count": 57,
     "metadata": {},
     "output_type": "execute_result"
    }
   ],
   "source": [
    "second_person.get_code()"
   ]
  },
  {
   "cell_type": "code",
   "execution_count": 64,
   "metadata": {},
   "outputs": [],
   "source": [
    "# Problem 2\n",
    "\n",
    "class Calculation:\n",
    "    def __init__(self,x,y):\n",
    "        self.x = x\n",
    "        self.y = y\n",
    "        \n",
    "    def addition(self):\n",
    "        print(self.x + self.y)\n",
    "        \n",
    "    def subtraction(self):\n",
    "        print(self.x - self.y)\n",
    "        \n",
    "class MyCalculation(Calculation):\n",
    "    def __init__(self,x,y):\n",
    "        Calculation.__init__(self,x,y)\n",
    "        \n",
    "    def multiplication(self):\n",
    "        print(self.x * self.y)\n",
    "        \n",
    "    def division(self):\n",
    "        print(self.x / self.y)\n",
    "        "
   ]
  },
  {
   "cell_type": "code",
   "execution_count": 65,
   "metadata": {},
   "outputs": [
    {
     "name": "stdout",
     "output_type": "stream",
     "text": [
      "8\n",
      "-2\n",
      "15\n",
      "0.6\n"
     ]
    }
   ],
   "source": [
    "MyCalc = MyCalculation(3,5)\n",
    "MyCalc.addition()\n",
    "MyCalc.subtraction()\n",
    "MyCalc.multiplication()\n",
    "MyCalc.division()"
   ]
  },
  {
   "cell_type": "code",
   "execution_count": 66,
   "metadata": {},
   "outputs": [],
   "source": [
    "# Problem 3\n",
    "\n",
    "class My_Time:\n",
    "    def __inint__(self, t):\n",
    "        self.t = t\n",
    "        \n",
    "    def printTime(self):\n",
    "        print('The current time is', self.t)\n",
    "\n",
    "class My_Date:\n",
    "    def __init__(self, d):\n",
    "        self.d = d\n",
    "        \n",
    "    def printDate(self):\n",
    "        print('The current date is', self.d)\n",
    "        \n",
    "class Date_Time(My_Date, My_Time):\n",
    "    def __init__(self,t,d):\n",
    "        My_Date.__init__(self, d)\n",
    "        My_Time.__inint__(self, t)\n",
    "        "
   ]
  },
  {
   "cell_type": "code",
   "execution_count": 67,
   "metadata": {},
   "outputs": [
    {
     "name": "stdout",
     "output_type": "stream",
     "text": [
      "The current time is 12 PM\n",
      "The current date is 13.03.2013\n"
     ]
    }
   ],
   "source": [
    "Date_Time1 = Date_Time('12 PM', '13.03.2013')\n",
    "Date_Time1.printTime()\n",
    "Date_Time1.printDate()"
   ]
  },
  {
   "cell_type": "code",
   "execution_count": 115,
   "metadata": {},
   "outputs": [],
   "source": [
    "# Problem 4\n",
    "\n",
    "class Model:\n",
    "    def __init__(self,model):\n",
    "        self.model = model\n",
    "        \n",
    "    def printModel(self):\n",
    "        print('The model of the vehicle is', self.model)\n",
    "        \n",
    "class Color:\n",
    "    def __inint__(self,color):\n",
    "        self.color = color\n",
    "        \n",
    "    def printColor(self):\n",
    "        print('The color of the vehicle is', self.color)\n",
    "        \n",
    "class Car(Model,Color):\n",
    "    def __init__(self,model,color):\n",
    "        Model.__init__(self,model)\n",
    "        Color.__inint__(self,color)\n",
    "        "
   ]
  },
  {
   "cell_type": "code",
   "execution_count": 116,
   "metadata": {},
   "outputs": [
    {
     "name": "stdout",
     "output_type": "stream",
     "text": [
      "The model of the vehicle is BMW\n",
      "The color of the vehicle is red\n"
     ]
    }
   ],
   "source": [
    "car1 = Car('BMW', 'red')\n",
    "car1.printModel()\n",
    "car1.printColor()"
   ]
  },
  {
   "cell_type": "code",
   "execution_count": null,
   "metadata": {},
   "outputs": [],
   "source": []
  }
 ],
 "metadata": {
  "kernelspec": {
   "display_name": "Python 3",
   "language": "python",
   "name": "python3"
  },
  "language_info": {
   "codemirror_mode": {
    "name": "ipython",
    "version": 3
   },
   "file_extension": ".py",
   "mimetype": "text/x-python",
   "name": "python",
   "nbconvert_exporter": "python",
   "pygments_lexer": "ipython3",
   "version": "3.7.4"
  }
 },
 "nbformat": 4,
 "nbformat_minor": 2
}
