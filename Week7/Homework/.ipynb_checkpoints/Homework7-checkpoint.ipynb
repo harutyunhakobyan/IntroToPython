{
 "cells": [
  {
   "cell_type": "code",
   "execution_count": 15,
   "metadata": {},
   "outputs": [
    {
     "ename": "ModuleNotFoundError",
     "evalue": "No module named 'numpy0'",
     "output_type": "error",
     "traceback": [
      "\u001b[1;31m---------------------------------------------------------------------------\u001b[0m",
      "\u001b[1;31mModuleNotFoundError\u001b[0m                       Traceback (most recent call last)",
      "\u001b[1;32m<ipython-input-15-84c33a3fca24>\u001b[0m in \u001b[0;36m<module>\u001b[1;34m\u001b[0m\n\u001b[0;32m      1\u001b[0m \u001b[1;31m# Problem 1\u001b[0m\u001b[1;33m\u001b[0m\u001b[1;33m\u001b[0m\u001b[1;33m\u001b[0m\u001b[0m\n\u001b[0;32m      2\u001b[0m \u001b[1;33m\u001b[0m\u001b[0m\n\u001b[1;32m----> 3\u001b[1;33m \u001b[1;32mimport\u001b[0m \u001b[0mnumpy0\u001b[0m\u001b[1;33m\u001b[0m\u001b[1;33m\u001b[0m\u001b[0m\n\u001b[0m",
      "\u001b[1;31mModuleNotFoundError\u001b[0m: No module named 'numpy0'"
     ]
    }
   ],
   "source": [
    "# Problem 1\n",
    "\n",
    "import numpy0"
   ]
  },
  {
   "cell_type": "code",
   "execution_count": 16,
   "metadata": {},
   "outputs": [
    {
     "name": "stdout",
     "output_type": "stream",
     "text": [
      "Sorry, module not found.\n"
     ]
    }
   ],
   "source": [
    "try:\n",
    "    import numpy0\n",
    "except ModuleNotFoundError:\n",
    "    print(\"Sorry, module not found.\")"
   ]
  },
  {
   "cell_type": "code",
   "execution_count": 17,
   "metadata": {},
   "outputs": [],
   "source": [
    "# Problem 2\n",
    "\n",
    "def div(x,y):\n",
    "    assert y != 0, 'Can’t divide'\n",
    "    return x/y"
   ]
  },
  {
   "cell_type": "code",
   "execution_count": 18,
   "metadata": {},
   "outputs": [
    {
     "ename": "AssertionError",
     "evalue": "Can’t divide",
     "output_type": "error",
     "traceback": [
      "\u001b[1;31m---------------------------------------------------------------------------\u001b[0m",
      "\u001b[1;31mAssertionError\u001b[0m                            Traceback (most recent call last)",
      "\u001b[1;32m<ipython-input-18-3a74e9f353c4>\u001b[0m in \u001b[0;36m<module>\u001b[1;34m\u001b[0m\n\u001b[1;32m----> 1\u001b[1;33m \u001b[0mdiv\u001b[0m\u001b[1;33m(\u001b[0m\u001b[1;36m10\u001b[0m\u001b[1;33m,\u001b[0m\u001b[1;36m0\u001b[0m\u001b[1;33m)\u001b[0m\u001b[1;33m\u001b[0m\u001b[1;33m\u001b[0m\u001b[0m\n\u001b[0m",
      "\u001b[1;32m<ipython-input-17-bc2d2a546561>\u001b[0m in \u001b[0;36mdiv\u001b[1;34m(x, y)\u001b[0m\n\u001b[0;32m      2\u001b[0m \u001b[1;33m\u001b[0m\u001b[0m\n\u001b[0;32m      3\u001b[0m \u001b[1;32mdef\u001b[0m \u001b[0mdiv\u001b[0m\u001b[1;33m(\u001b[0m\u001b[0mx\u001b[0m\u001b[1;33m,\u001b[0m\u001b[0my\u001b[0m\u001b[1;33m)\u001b[0m\u001b[1;33m:\u001b[0m\u001b[1;33m\u001b[0m\u001b[1;33m\u001b[0m\u001b[0m\n\u001b[1;32m----> 4\u001b[1;33m     \u001b[1;32massert\u001b[0m \u001b[0my\u001b[0m \u001b[1;33m!=\u001b[0m \u001b[1;36m0\u001b[0m\u001b[1;33m,\u001b[0m \u001b[1;34m'Can’t divide'\u001b[0m\u001b[1;33m\u001b[0m\u001b[1;33m\u001b[0m\u001b[0m\n\u001b[0m\u001b[0;32m      5\u001b[0m     \u001b[1;32mreturn\u001b[0m \u001b[0mx\u001b[0m\u001b[1;33m/\u001b[0m\u001b[0my\u001b[0m\u001b[1;33m\u001b[0m\u001b[1;33m\u001b[0m\u001b[0m\n",
      "\u001b[1;31mAssertionError\u001b[0m: Can’t divide"
     ]
    }
   ],
   "source": [
    "div(10,0)"
   ]
  },
  {
   "cell_type": "code",
   "execution_count": 46,
   "metadata": {},
   "outputs": [],
   "source": [
    "# Problem 3\n",
    "\n",
    "def example_func(my_list: list):\n",
    "    \n",
    "    try:\n",
    "        if (type(my_list) != list):\n",
    "            raise Exception(\"value type is not list\")\n",
    "        else:\n",
    "            my_sum = 0\n",
    "            sum_of_pairs = []\n",
    "            \n",
    "            for i in range(len(my_list)):\n",
    "                if i+1 > len(my_list):\n",
    "                    raise Exception(\"list index out of range\")\n",
    "                sum_of_pairs.append(my_list[i] + my_list[i+1])\n",
    "                \n",
    "            print(\"sumOfPairs = \", sum_of_pairs)\n",
    "    \n",
    "    except Exception as e:\n",
    "        print(e)"
   ]
  },
  {
   "cell_type": "code",
   "execution_count": 47,
   "metadata": {},
   "outputs": [
    {
     "name": "stdout",
     "output_type": "stream",
     "text": [
      "value type is not list\n"
     ]
    }
   ],
   "source": [
    "example_func(1)"
   ]
  },
  {
   "cell_type": "code",
   "execution_count": 48,
   "metadata": {},
   "outputs": [
    {
     "name": "stdout",
     "output_type": "stream",
     "text": [
      "list index out of range\n"
     ]
    }
   ],
   "source": [
    "example_func([1,2,3,4,5])"
   ]
  },
  {
   "cell_type": "code",
   "execution_count": 80,
   "metadata": {},
   "outputs": [],
   "source": [
    "# Problem 4\n",
    "\n",
    "def UpperContent(fileName):\n",
    "    \n",
    "    try:\n",
    "        myfile = open(fileName, \"r\")\n",
    "        for line in myfile:\n",
    "            print(line.upper())\n",
    "        myfile.close()\n",
    "    except FileNotFoundError:\n",
    "        print('Sorry, this file does not exist')"
   ]
  },
  {
   "cell_type": "code",
   "execution_count": 81,
   "metadata": {},
   "outputs": [
    {
     "name": "stdout",
     "output_type": "stream",
     "text": [
      "HELLO WORLD!\n"
     ]
    }
   ],
   "source": [
    "UpperContent('file.txt')"
   ]
  },
  {
   "cell_type": "code",
   "execution_count": 82,
   "metadata": {},
   "outputs": [
    {
     "name": "stdout",
     "output_type": "stream",
     "text": [
      "Sorry, this file does not exist\n"
     ]
    }
   ],
   "source": [
    "UpperContent('file1.txt')"
   ]
  },
  {
   "cell_type": "code",
   "execution_count": 61,
   "metadata": {},
   "outputs": [
    {
     "name": "stdout",
     "output_type": "stream",
     "text": [
      "[[6 9 1 9 2]\n",
      " [2 2 1 7 2]\n",
      " [9 4 6 6 9]]\n"
     ]
    }
   ],
   "source": [
    "# Problem 5\n",
    "\n",
    "import numpy as np\n",
    "\n",
    "x = np.random.randint(1, 10, (3,5))\n",
    "print(x)"
   ]
  },
  {
   "cell_type": "code",
   "execution_count": 63,
   "metadata": {},
   "outputs": [
    {
     "name": "stdout",
     "output_type": "stream",
     "text": [
      "[0. 0. 0. 0. 3. 0. 0. 0. 0. 0.]\n"
     ]
    }
   ],
   "source": [
    "# Problem 6\n",
    "\n",
    "x = np.zeros(10)\n",
    "x[4] = 3\n",
    "print(x)"
   ]
  },
  {
   "cell_type": "code",
   "execution_count": 64,
   "metadata": {},
   "outputs": [
    {
     "name": "stdout",
     "output_type": "stream",
     "text": [
      "[ 3  4  5  6  7  8  9 10 11 12 13 14]\n"
     ]
    }
   ],
   "source": [
    "# Problem 7\n",
    "\n",
    "x = np.arange(3,15)\n",
    "print(x)"
   ]
  },
  {
   "cell_type": "code",
   "execution_count": 66,
   "metadata": {},
   "outputs": [
    {
     "name": "stdout",
     "output_type": "stream",
     "text": [
      "[[1 3]\n",
      " [5 2]\n",
      " [4 5]] \n",
      "\n",
      "[[1 3 5]\n",
      " [2 4 5]]\n"
     ]
    }
   ],
   "source": [
    "# Problem 8\n",
    "\n",
    "x = np.array([1, 3, 5, 2, 4, 5])\n",
    "y = x.reshape(3,2)\n",
    "z = x.reshape(2,3)\n",
    "print(y, '\\n')\n",
    "print(z)"
   ]
  },
  {
   "cell_type": "code",
   "execution_count": 67,
   "metadata": {},
   "outputs": [],
   "source": [
    "# Problem 9 <=> Numpy_exercises 20\n",
    "\n",
    "def my_func(x):\n",
    "    mean  = x.mean()\n",
    "    while mean > 5:\n",
    "        x = x/2\n",
    "        mean = x.mean()\n",
    "    else:\n",
    "        print(x)"
   ]
  },
  {
   "cell_type": "code",
   "execution_count": 68,
   "metadata": {},
   "outputs": [
    {
     "name": "stdout",
     "output_type": "stream",
     "text": [
      "[8. 1. 2.]\n"
     ]
    }
   ],
   "source": [
    "my_func(np.array([64,8,16]))"
   ]
  },
  {
   "cell_type": "code",
   "execution_count": 69,
   "metadata": {},
   "outputs": [],
   "source": [
    "# Problem 10 <=> Numpy_exercises 21\n",
    "\n",
    "def func_column(x):\n",
    "    print(x[...,0])\n",
    "    print(x[...,1])\n",
    "    print(x[...,2])\n",
    "    print(x[...,3])\n",
    "    \n",
    "def func_row(x):\n",
    "    print(x[0,...])\n",
    "    print(x[1,...])\n",
    "    print(x[1,...])\n",
    "    print(x[3,...])\n",
    "    print(x[4,...])"
   ]
  },
  {
   "cell_type": "code",
   "execution_count": 70,
   "metadata": {},
   "outputs": [
    {
     "name": "stdout",
     "output_type": "stream",
     "text": [
      "[[1 5 9 6]\n",
      " [9 4 9 4]\n",
      " [4 3 6 1]\n",
      " [6 3 5 4]\n",
      " [3 3 9 4]]\n"
     ]
    }
   ],
   "source": [
    "x = np.random.randint(1, 10, 20).reshape(5,4)\n",
    "print(x)"
   ]
  },
  {
   "cell_type": "code",
   "execution_count": 71,
   "metadata": {},
   "outputs": [
    {
     "name": "stdout",
     "output_type": "stream",
     "text": [
      "[1 9 4 6 3]\n",
      "[5 4 3 3 3]\n",
      "[9 9 6 5 9]\n",
      "[6 4 1 4 4]\n"
     ]
    }
   ],
   "source": [
    "func_column(x)"
   ]
  },
  {
   "cell_type": "code",
   "execution_count": 72,
   "metadata": {},
   "outputs": [
    {
     "name": "stdout",
     "output_type": "stream",
     "text": [
      "[1 5 9 6]\n",
      "[9 4 9 4]\n",
      "[9 4 9 4]\n",
      "[6 3 5 4]\n",
      "[3 3 9 4]\n"
     ]
    }
   ],
   "source": [
    "func_row(x)"
   ]
  },
  {
   "cell_type": "code",
   "execution_count": null,
   "metadata": {},
   "outputs": [],
   "source": []
  }
 ],
 "metadata": {
  "kernelspec": {
   "display_name": "Python 3",
   "language": "python",
   "name": "python3"
  },
  "language_info": {
   "codemirror_mode": {
    "name": "ipython",
    "version": 3
   },
   "file_extension": ".py",
   "mimetype": "text/x-python",
   "name": "python",
   "nbconvert_exporter": "python",
   "pygments_lexer": "ipython3",
   "version": "3.7.4"
  }
 },
 "nbformat": 4,
 "nbformat_minor": 2
}
