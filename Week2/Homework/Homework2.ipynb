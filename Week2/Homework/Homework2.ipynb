{
 "cells": [
  {
   "cell_type": "markdown",
   "metadata": {},
   "source": [
    "# Problem 1"
   ]
  },
  {
   "cell_type": "code",
   "execution_count": 5,
   "metadata": {},
   "outputs": [
    {
     "name": "stdout",
     "output_type": "stream",
     "text": [
      "Number of years: 5\n",
      "Number of days: 5\n",
      "Current date: 2020-03-21 16:31:52.471834\n",
      "Given years: 5\n",
      "Given days: 5\n",
      "Final date: 2025-03-25 16:31:52.473828\n"
     ]
    }
   ],
   "source": [
    "import datetime\n",
    "import time\n",
    "import calendar\n",
    "\n",
    "num_y = int(input(\"Number of years: \"))\n",
    "num_d = int(input(\"Number of days: \"))\n",
    "\n",
    "tdelta_years = datetime.timedelta(days = num_y*365)\n",
    "tdelta_days = datetime.timedelta(days = num_d)\n",
    "\n",
    "print(\"Current date:\",datetime.datetime.now())\n",
    "print('Given years:', num_y)\n",
    "print('Given days:', num_d)\n",
    "print('Final date:', datetime.datetime.now() + tdelta_years + tdelta_days)"
   ]
  },
  {
   "cell_type": "markdown",
   "metadata": {},
   "source": [
    "# Problem 2"
   ]
  },
  {
   "cell_type": "code",
   "execution_count": 40,
   "metadata": {},
   "outputs": [
    {
     "name": "stdout",
     "output_type": "stream",
     "text": [
      "abcdefghijk\n",
      "The old string: abcdefghijk\n",
      "Middle 3 characters: efg\n",
      "The new string: abcdEFGhijk\n"
     ]
    }
   ],
   "source": [
    "text = input()\n",
    "middle = int((len(text)-1)/2)\n",
    "\n",
    "print(\"The old string: \" + text)\n",
    "print(\"Middle 3 characters: \" + text[middle-1:middle+2])\n",
    "print(\"The new string: \" + text[:middle-1] + text[middle-1:middle+2].upper() + text[middle+2:])\n"
   ]
  },
  {
   "cell_type": "markdown",
   "metadata": {},
   "source": [
    "# Problem 3"
   ]
  },
  {
   "cell_type": "code",
   "execution_count": 41,
   "metadata": {},
   "outputs": [
    {
     "name": "stdout",
     "output_type": "stream",
     "text": [
      "This text is a sample text.\n",
      "text\n",
      "image\n",
      "The given text: This text is a sample text.\n",
      "First word: text\n",
      "Second word: image\n",
      "Output string: This image is a sample image.\n"
     ]
    }
   ],
   "source": [
    "text = input()\n",
    "first_word = input()\n",
    "second_word = input()\n",
    "\n",
    "print(\"The given text: \" + text)\n",
    "print(\"First word: \" + first_word)\n",
    "print(\"Second word: \" + second_word)\n",
    "print(\"Output string: \" + text.replace(first_word, second_word))"
   ]
  },
  {
   "cell_type": "markdown",
   "metadata": {},
   "source": [
    "# Problem 4"
   ]
  },
  {
   "cell_type": "code",
   "execution_count": 53,
   "metadata": {},
   "outputs": [
    {
     "name": "stdout",
     "output_type": "stream",
     "text": [
      "Welcome to USA. usa is awesome, isn’t it?\n",
      "The given string: Welcome to USA. usa is awesome, isn’t it?\n",
      "The USA/usa count is:  2\n",
      "The new string:  Welcome to Armenia. Armenia is awesome, isn’t it?\n"
     ]
    }
   ],
   "source": [
    "text = input()\n",
    "\n",
    "print(\"The given string: \" + text)\n",
    "print(\"The USA/usa count is: \", text.count('USA') + text.count('usa'))\n",
    "text_new = text.replace('usa','USA')\n",
    "print(\"The new string: \", text_new.replace('USA','Armenia'))"
   ]
  },
  {
   "cell_type": "markdown",
   "metadata": {},
   "source": [
    "# Problem 5"
   ]
  },
  {
   "cell_type": "code",
   "execution_count": 70,
   "metadata": {},
   "outputs": [
    {
     "name": "stdout",
     "output_type": "stream",
     "text": [
      "Birthday: 1986-01-15\n",
      "Year: 1986\n",
      "Month: 1\n",
      "Day: 15\n",
      "Day of the week : 3\n",
      "Days left till upcoming birthday: 300 days, 0:00:00\n",
      "The calendar of May 2017:\n",
      "      May 2017\n",
      "Mo Tu We Th Fr Sa Su\n",
      " 1  2  3  4  5  6  7\n",
      " 8  9 10 11 12 13 14\n",
      "15 16 17 18 19 20 21\n",
      "22 23 24 25 26 27 28\n",
      "29 30 31\n",
      "\n",
      "Yesterday:  2020-03-20 18:32:42.272104\n",
      "2 days to yesterday’s date:  2020-03-22 18:32:42.272104\n",
      "3 days from yesterday’s date:  2020-03-17 18:32:42.272104\n"
     ]
    }
   ],
   "source": [
    "import datetime\n",
    "import time\n",
    "import calendar\n",
    "\n",
    "bday = datetime.date(1986, 1, 15)\n",
    "print('Birthday:', bday)\n",
    "print('Year:', bday.year)\n",
    "print('Month:', bday.month)\n",
    "print('Day:', bday.day)\n",
    "print('Day of the week :', bday.isoweekday())\n",
    "\n",
    "bday_next = datetime.date(2021, 1, 15)\n",
    "tday = datetime.date.today()\n",
    "print('Days left till upcoming birthday:', bday_next - tday)\n",
    "\n",
    "print (\"The calendar of May 2017:\")\n",
    "print(calendar.month(2017, 5))\n",
    "\n",
    "today = datetime.datetime.now()\n",
    "yesterday = today - datetime.timedelta(days = 1)\n",
    "\n",
    "print('Yesterday: ', yesterday)\n",
    "print('2 days to yesterday’s date: ',yesterday + datetime.timedelta(days = 2))\n",
    "print('3 days from yesterday’s date: ',yesterday - datetime.timedelta(days = 3))"
   ]
  },
  {
   "cell_type": "code",
   "execution_count": null,
   "metadata": {},
   "outputs": [],
   "source": []
  }
 ],
 "metadata": {
  "kernelspec": {
   "display_name": "Python 3",
   "language": "python",
   "name": "python3"
  },
  "language_info": {
   "codemirror_mode": {
    "name": "ipython",
    "version": 3
   },
   "file_extension": ".py",
   "mimetype": "text/x-python",
   "name": "python",
   "nbconvert_exporter": "python",
   "pygments_lexer": "ipython3",
   "version": "3.7.4"
  }
 },
 "nbformat": 4,
 "nbformat_minor": 2
}
