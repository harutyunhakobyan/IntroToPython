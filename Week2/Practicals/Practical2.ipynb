{
 "cells": [
  {
   "cell_type": "markdown",
   "metadata": {},
   "source": [
    "# Problem 1"
   ]
  },
  {
   "cell_type": "code",
   "execution_count": 4,
   "metadata": {},
   "outputs": [
    {
     "name": "stdout",
     "output_type": "stream",
     "text": [
      "Print your name: Harutyun\n",
      "Print your last name: Hakobyan\n"
     ]
    }
   ],
   "source": [
    "name = input(\"Print your name: \")\n",
    "last_name = input(\"Print your last name: \")\n"
   ]
  },
  {
   "cell_type": "code",
   "execution_count": 5,
   "metadata": {},
   "outputs": [
    {
     "name": "stdout",
     "output_type": "stream",
     "text": [
      "Name: Harutyun\n",
      "Last Name: Hakobyan\n"
     ]
    }
   ],
   "source": [
    "print(\"Name: \" + name)\n",
    "print(\"Last Name: \" + last_name)"
   ]
  },
  {
   "cell_type": "markdown",
   "metadata": {},
   "source": [
    "# Problem 2"
   ]
  },
  {
   "cell_type": "code",
   "execution_count": 7,
   "metadata": {},
   "outputs": [
    {
     "name": "stdout",
     "output_type": "stream",
     "text": [
      "Number1: 1\n",
      "Number2: 2\n"
     ]
    }
   ],
   "source": [
    "num1 = int(input(\"Number1: \"))\n",
    "num2 = int(input(\"Number2: \"))\n",
    "Sum = num1 + num2"
   ]
  },
  {
   "cell_type": "code",
   "execution_count": 13,
   "metadata": {},
   "outputs": [
    {
     "name": "stdout",
     "output_type": "stream",
     "text": [
      "First number: 1\n",
      "Second number: 2\n",
      "Sum: 3\n"
     ]
    }
   ],
   "source": [
    "print(\"First number:\", num1)\n",
    "print(\"Second number:\", num2)\n",
    "print(\"Sum:\", Sum)"
   ]
  },
  {
   "cell_type": "markdown",
   "metadata": {},
   "source": [
    "# Problem 3"
   ]
  },
  {
   "cell_type": "code",
   "execution_count": 20,
   "metadata": {},
   "outputs": [
    {
     "name": "stdout",
     "output_type": "stream",
     "text": [
      "Age:20\n",
      "Happy Birthday, you are already 20 years old!\n",
      "Happy Birthday, you are already 20 years old!\n"
     ]
    }
   ],
   "source": [
    "age = int(input(\"Age:\"))\n",
    "print(\"Happy Birthday, you are already\", age, \"years old!\")\n",
    "print(\"Happy Birthday, you are already %s years old!\" % age)"
   ]
  },
  {
   "cell_type": "markdown",
   "metadata": {},
   "source": [
    "# Problem 4"
   ]
  },
  {
   "cell_type": "code",
   "execution_count": 3,
   "metadata": {},
   "outputs": [
    {
     "name": "stdout",
     "output_type": "stream",
     "text": [
      "Print text: Hello World!\n"
     ]
    }
   ],
   "source": [
    "text = input(\"Print text: \")"
   ]
  },
  {
   "cell_type": "code",
   "execution_count": 4,
   "metadata": {},
   "outputs": [
    {
     "name": "stdout",
     "output_type": "stream",
     "text": [
      "The given string: Hello World!\n",
      "All lowercase: hello world!\n",
      "All uppercase: HELLO WORLD!\n"
     ]
    }
   ],
   "source": [
    "print(\"The given string: \" + text)\n",
    "print(\"All lowercase: \" + text.lower())\n",
    "print(\"All uppercase: \" + text.upper())"
   ]
  },
  {
   "cell_type": "markdown",
   "metadata": {},
   "source": [
    "# Problem 5"
   ]
  },
  {
   "cell_type": "code",
   "execution_count": 7,
   "metadata": {},
   "outputs": [
    {
     "name": "stdout",
     "output_type": "stream",
     "text": [
      "aaaabbbccccccddeeeeeeee\n"
     ]
    }
   ],
   "source": [
    "text1 = input()"
   ]
  },
  {
   "cell_type": "code",
   "execution_count": 8,
   "metadata": {},
   "outputs": [
    {
     "name": "stdout",
     "output_type": "stream",
     "text": [
      "The given text:aaaabbbccccccddeeeeeeee\n",
      "# of a: 4\n",
      "# of b: 3\n",
      "# of c: 6\n",
      "# of d: 2\n",
      "# of e: 8\n"
     ]
    }
   ],
   "source": [
    "print(\"The given text:\" + text1)\n",
    "print(\"# of a:\", text1.count('a'))\n",
    "print(\"# of b:\", text1.count('b'))\n",
    "print(\"# of c:\", text1.count('c'))\n",
    "print(\"# of d:\", text1.count('d'))\n",
    "print(\"# of e:\", text1.count('e'))"
   ]
  },
  {
   "cell_type": "markdown",
   "metadata": {},
   "source": [
    "# Problem 6"
   ]
  },
  {
   "cell_type": "code",
   "execution_count": 18,
   "metadata": {},
   "outputs": [
    {
     "name": "stdout",
     "output_type": "stream",
     "text": [
      "How are you Harut?\n",
      "How are you Harut?\n"
     ]
    }
   ],
   "source": [
    "str1 = \"How are you John?\"\n",
    "name = \"Harut\"\n",
    "str2 = str1[:12] + name + \"?\"\n",
    "str2_2 = str1.replace(\"John\", name)\n",
    "print(str2)\n",
    "print(str2_2)"
   ]
  },
  {
   "cell_type": "markdown",
   "metadata": {},
   "source": [
    "# Problem 7"
   ]
  },
  {
   "cell_type": "code",
   "execution_count": 24,
   "metadata": {},
   "outputs": [
    {
     "name": "stdout",
     "output_type": "stream",
     "text": [
      "Hi, where are you from?\n",
      "I’m from Armenia\n",
      "How long have you lived here?\n",
      "For 10 years\n"
     ]
    }
   ],
   "source": [
    "country = \"Armenia\"\n",
    "years = 10\n",
    "\n",
    "print(\"\"\"Hi, where are you from?\n",
    "I’m from %s\n",
    "How long have you lived here?\n",
    "For %d years\"\"\" % (country, years))"
   ]
  },
  {
   "cell_type": "markdown",
   "metadata": {},
   "source": [
    "# Problem 8"
   ]
  },
  {
   "cell_type": "code",
   "execution_count": 42,
   "metadata": {},
   "outputs": [
    {
     "name": "stdout",
     "output_type": "stream",
     "text": [
      "Text: Thisisasampletext.\n",
      "Start: 3\n",
      "End: 11\n"
     ]
    }
   ],
   "source": [
    "text = input(\"Text: \")\n",
    "start_index = int(input(\"Start: \"))\n",
    "end_index = int(input(\"End: \"))"
   ]
  },
  {
   "cell_type": "code",
   "execution_count": 44,
   "metadata": {},
   "outputs": [
    {
     "name": "stdout",
     "output_type": "stream",
     "text": [
      "The given text: Thisisasampletext.\n",
      "Start index:  3\n",
      "The given text:  11\n",
      "Output string: sisasamp\n"
     ]
    }
   ],
   "source": [
    "print(\"The given text: \" + text)\n",
    "print(\"Start index: \", start_index)\n",
    "print(\"The given text: \", end_index)\n",
    "print(\"Output string:\", text[start_index:end_index])"
   ]
  },
  {
   "cell_type": "markdown",
   "metadata": {},
   "source": [
    "# Problem 9"
   ]
  },
  {
   "cell_type": "code",
   "execution_count": 40,
   "metadata": {},
   "outputs": [
    {
     "name": "stdout",
     "output_type": "stream",
     "text": [
      "Current date and time: 2020-03-21 12:58:36.548623\n",
      "Current year: 2020\n",
      "Current month:  3\n",
      "Day of the week: 6\n",
      "Date today + 5 days:  2020-03-26 12:58:36.549620\n",
      "Date today - 5 days:  2020-03-16 12:58:36.550621\n"
     ]
    }
   ],
   "source": [
    "import datetime\n",
    "import time\n",
    "import calendar\n",
    "\n",
    "tday = datetime.date.today()\n",
    "\n",
    "print(\"Current date and time:\",datetime.datetime.now())\n",
    "print('Current year:', tday.year)\n",
    "print('Current month: ', tday.month)\n",
    "print('Day of the week:', tday.isoweekday())\n",
    "\n",
    "tdelta = datetime.timedelta(days = 5)\n",
    "\n",
    "print('Date today + 5 days: ', datetime.datetime.now() + tdelta)\n",
    "print('Date today - 5 days: ', datetime.datetime.now() - tdelta)\n"
   ]
  },
  {
   "cell_type": "code",
   "execution_count": null,
   "metadata": {},
   "outputs": [],
   "source": []
  }
 ],
 "metadata": {
  "kernelspec": {
   "display_name": "Python 3",
   "language": "python",
   "name": "python3"
  },
  "language_info": {
   "codemirror_mode": {
    "name": "ipython",
    "version": 3
   },
   "file_extension": ".py",
   "mimetype": "text/x-python",
   "name": "python",
   "nbconvert_exporter": "python",
   "pygments_lexer": "ipython3",
   "version": "3.7.4"
  }
 },
 "nbformat": 4,
 "nbformat_minor": 2
}
