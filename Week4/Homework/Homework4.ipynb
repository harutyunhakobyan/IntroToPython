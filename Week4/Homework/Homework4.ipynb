{
 "cells": [
  {
   "cell_type": "code",
   "execution_count": 4,
   "metadata": {},
   "outputs": [
    {
     "name": "stdout",
     "output_type": "stream",
     "text": [
      "11\n",
      "You get a discount\n"
     ]
    }
   ],
   "source": [
    "# Problem 1\n",
    "\n",
    "n_shoes = int(input())\n",
    "\n",
    "if n_shoes*100 > 1000:\n",
    "    print(\"You get a discount\")\n",
    "else:\n",
    "    print(\"You don’t get a discount\")"
   ]
  },
  {
   "cell_type": "code",
   "execution_count": 22,
   "metadata": {},
   "outputs": [
    {
     "name": "stdout",
     "output_type": "stream",
     "text": [
      "Good job\n"
     ]
    }
   ],
   "source": [
    "# Problem 2\n",
    "\n",
    "d = {\"name\": \"Armen\", \"age\": 15, \"grades\": [10, 8, 8, 4, 6, 7]}\n",
    "l1 = d[\"grades\"]\n",
    "if sum(l1)/len(l1) > 7:\n",
    "    print('Good job')\n",
    "else:\n",
    "    print('You need to work more')\n"
   ]
  },
  {
   "cell_type": "code",
   "execution_count": 1,
   "metadata": {},
   "outputs": [
    {
     "name": "stdout",
     "output_type": "stream",
     "text": [
      "1\n",
      "3\n",
      "5\n",
      "7\n",
      "9\n"
     ]
    }
   ],
   "source": [
    "# Problem 3\n",
    "\n",
    "for x in range(10):\n",
    "    if x % 2 == 1:\n",
    "        print(x)\n",
    "    else:\n",
    "        continue\n",
    "    "
   ]
  },
  {
   "cell_type": "code",
   "execution_count": 1,
   "metadata": {},
   "outputs": [
    {
     "name": "stdout",
     "output_type": "stream",
     "text": [
      "11\n"
     ]
    }
   ],
   "source": [
    "# Problem 4\n",
    "\n",
    "list1 = [1, 3, 5, 7, 9, 11, 13, 15]\n",
    "list2 = [4, 6, 14, 11, 8, 16]\n",
    "\n",
    "for i in range(len(list1)):\n",
    "    for j in range(len(list2)):\n",
    "        if list1[i] == list2[j]:\n",
    "            print(list1[i])\n",
    "            break"
   ]
  },
  {
   "cell_type": "code",
   "execution_count": 10,
   "metadata": {},
   "outputs": [
    {
     "name": "stdout",
     "output_type": "stream",
     "text": [
      "input desert: banan\n",
      "Please choose another desert\n",
      "input desert: apple\n",
      "Please choose another desert\n",
      "input desert: chocolate\n",
      "Your desert will arrive in 10 minutes\n"
     ]
    }
   ],
   "source": [
    "# Problem 5\n",
    "\n",
    "menu = ['ice cream', 'chocolate', 'apple crisp', 'cookies']\n",
    "\n",
    "for i in range(len(menu)):\n",
    "    desert = input('input desert: ')\n",
    "    if desert in menu:\n",
    "        print('Your desert will arrive in 10 minutes')\n",
    "        break\n",
    "    else:\n",
    "        print('Please choose another desert')     \n"
   ]
  },
  {
   "cell_type": "code",
   "execution_count": 94,
   "metadata": {},
   "outputs": [
    {
     "name": "stdout",
     "output_type": "stream",
     "text": [
      "[7, 9]\n"
     ]
    }
   ],
   "source": [
    "# Problem 6\n",
    "\n",
    "list2 = [1, 3, 5, 7, 9, 11, 13, 15]\n",
    "l2 = [x for x in list2 if ((5 < x) & (x < 10))]\n",
    "print(l2)\n"
   ]
  },
  {
   "cell_type": "code",
   "execution_count": 95,
   "metadata": {},
   "outputs": [
    {
     "name": "stdout",
     "output_type": "stream",
     "text": [
      "[[10, 20, 100], [40, 50, 100], [70, 80, 100]]\n"
     ]
    }
   ],
   "source": [
    "# Problem 7\n",
    "\n",
    "list4 = [[10, 20, 40], [40, 50, 60], [70, 80, 90]]\n",
    "list5 = [x[:-1]+[100] for x in list4]\n",
    "\n",
    "print(list5)\n"
   ]
  },
  {
   "cell_type": "code",
   "execution_count": null,
   "metadata": {},
   "outputs": [],
   "source": []
  }
 ],
 "metadata": {
  "kernelspec": {
   "display_name": "Python 3",
   "language": "python",
   "name": "python3"
  },
  "language_info": {
   "codemirror_mode": {
    "name": "ipython",
    "version": 3
   },
   "file_extension": ".py",
   "mimetype": "text/x-python",
   "name": "python",
   "nbconvert_exporter": "python",
   "pygments_lexer": "ipython3",
   "version": "3.7.4"
  }
 },
 "nbformat": 4,
 "nbformat_minor": 2
}
