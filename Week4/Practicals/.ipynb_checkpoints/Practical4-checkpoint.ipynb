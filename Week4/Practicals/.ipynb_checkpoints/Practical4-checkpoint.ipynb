{
 "cells": [
  {
   "cell_type": "code",
   "execution_count": 1,
   "metadata": {},
   "outputs": [
    {
     "name": "stdout",
     "output_type": "stream",
     "text": [
      "5\n",
      "50\n",
      "The number 50 is the greatest.\n"
     ]
    }
   ],
   "source": [
    "# Problem 1\n",
    "\n",
    "n1 = int(input())\n",
    "n2 = int(input())\n",
    "\n",
    "if n1 > n2:\n",
    "    print(\"The number\", n1, \"is the greatest.\")\n",
    "else:\n",
    "    print(\"The number\", n2, \"is the greatest.\")"
   ]
  },
  {
   "cell_type": "code",
   "execution_count": 5,
   "metadata": {},
   "outputs": [
    {
     "name": "stdout",
     "output_type": "stream",
     "text": [
      "rectangle\n"
     ]
    }
   ],
   "source": [
    "# Problem 2\n",
    "\n",
    "a = 3\n",
    "b = 4\n",
    "\n",
    "if a == b:\n",
    "    print('square')\n",
    "else:\n",
    "    print('rectangle')"
   ]
  },
  {
   "cell_type": "code",
   "execution_count": 50,
   "metadata": {},
   "outputs": [
    {
     "name": "stdout",
     "output_type": "stream",
     "text": [
      "Please enter a different password\n"
     ]
    }
   ],
   "source": [
    "# Problem 3\n",
    "\n",
    "name = 'Ann'\n",
    "age = 20\n",
    "password = 'secret'\n",
    "\n",
    "\n",
    "if name == \"Batman\":\n",
    "    print(\"Welcome Mr. Batman!\")\n",
    "else:\n",
    "    if age < 16:\n",
    "        print('Dear %s you are too young to register' % name)\n",
    "    if ('*' not in password) and ('&' not in password):\n",
    "        print('Please enter a different password')\n"
   ]
  },
  {
   "cell_type": "code",
   "execution_count": 49,
   "metadata": {},
   "outputs": [
    {
     "name": "stdout",
     "output_type": "stream",
     "text": [
      "5\n",
      "{'name': 'Armen', 'age': 15, 'grades': [10, 8, 8, 4, 6, 7], 'weight': 5}\n"
     ]
    }
   ],
   "source": [
    "# Problem 4\n",
    "\n",
    "d = {\"name\": \"Armen\", \"age\": 15, \"grades\": [10, 8, 8, 4, 6, 7] }\n",
    "\n",
    "if 'weight'not in d.keys():\n",
    "    n = int(input())\n",
    "    d['weight'] = n\n",
    "    print(d)\n",
    "else:\n",
    "    print(d['weight'])"
   ]
  },
  {
   "cell_type": "code",
   "execution_count": 50,
   "metadata": {},
   "outputs": [
    {
     "name": "stdout",
     "output_type": "stream",
     "text": [
      "1\n",
      "3\n",
      "5\n",
      "7\n",
      "9\n",
      "11\n",
      "13\n",
      "15\n",
      "17\n",
      "19\n",
      "21\n",
      "23\n",
      "25\n",
      "27\n",
      "29\n",
      "31\n",
      "33\n",
      "35\n",
      "37\n",
      "39\n",
      "41\n",
      "43\n",
      "45\n",
      "47\n",
      "49\n",
      "51\n",
      "53\n",
      "55\n",
      "57\n",
      "59\n",
      "61\n",
      "63\n",
      "65\n",
      "67\n",
      "69\n",
      "71\n",
      "73\n",
      "75\n",
      "77\n",
      "79\n",
      "81\n",
      "83\n",
      "85\n",
      "87\n",
      "89\n",
      "91\n",
      "93\n",
      "95\n",
      "97\n",
      "99\n"
     ]
    }
   ],
   "source": [
    "# Problem 5\n",
    "\n",
    "for x in range(100):\n",
    "    if x % 2 == 0:\n",
    "        continue\n",
    "    else:\n",
    "        print(x)"
   ]
  },
  {
   "cell_type": "code",
   "execution_count": 51,
   "metadata": {},
   "outputs": [
    {
     "name": "stdout",
     "output_type": "stream",
     "text": [
      "0\n",
      "1\n",
      "3\n",
      "5\n",
      "6\n"
     ]
    }
   ],
   "source": [
    "# Problem 6\n",
    "\n",
    "for x in range(7):\n",
    "    if x == 2 or x == 4:\n",
    "        continue\n",
    "    else:\n",
    "        print(x)\n"
   ]
  },
  {
   "cell_type": "code",
   "execution_count": 8,
   "metadata": {},
   "outputs": [
    {
     "name": "stdout",
     "output_type": "stream",
     "text": [
      "1\n",
      "2\n",
      "3\n",
      "4\n",
      "5\n",
      "6\n",
      "7\n",
      "8\n",
      "9\n",
      "10\n",
      "11\n",
      "12\n",
      "13\n",
      "14\n"
     ]
    }
   ],
   "source": [
    "# Problem 7\n",
    "\n",
    "for x in range(1,21):\n",
    "    if (x % 3 == 0) and (x % 5 == 0):\n",
    "        break\n",
    "    else:\n",
    "        print(x)"
   ]
  },
  {
   "cell_type": "code",
   "execution_count": 80,
   "metadata": {},
   "outputs": [
    {
     "name": "stdout",
     "output_type": "stream",
     "text": [
      "7\n"
     ]
    }
   ],
   "source": [
    "# Problem 8\n",
    "\n",
    "list1 = [5, 7, -7, 'abc', 2, 4, True, 3, 4, 6, 7, 7]\n",
    "\n",
    "for i in range(len(list1)):\n",
    "    if list1[i] == 3:\n",
    "        print(i)\n",
    "        break\n",
    " "
   ]
  },
  {
   "cell_type": "code",
   "execution_count": 1,
   "metadata": {},
   "outputs": [
    {
     "name": "stdout",
     "output_type": "stream",
     "text": [
      "print a number: 1\n",
      "print a number: 5\n",
      "That was a good guess!\n"
     ]
    }
   ],
   "source": [
    "# Problem 9\n",
    "\n",
    "correct_num = 5\n",
    "for x in range(10):\n",
    "    guess = int(input('print a number: '))\n",
    "    if guess == correct_num:\n",
    "        print('That was a good guess!')\n",
    "        break\n"
   ]
  },
  {
   "cell_type": "code",
   "execution_count": 22,
   "metadata": {},
   "outputs": [
    {
     "name": "stdout",
     "output_type": "stream",
     "text": [
      "[7, 8, 120, 25, 44, 20, 27]\n",
      "[8, 120, 44, 20]\n"
     ]
    }
   ],
   "source": [
    "# Problem 10\n",
    "\n",
    "num = [7,8, 120, 25, 44, 20, 27]\n",
    "evens = [n for n in num if n%2==0]\n",
    "print(num)\n",
    "print(evens)"
   ]
  },
  {
   "cell_type": "code",
   "execution_count": 24,
   "metadata": {},
   "outputs": [
    {
     "name": "stdout",
     "output_type": "stream",
     "text": [
      "[1, 4, 9, 16, 25, 36, 49, 64, 81, 100, 121, 144, 169, 196, 225, 256, 289, 324, 361, 400, 441, 484, 529, 576, 625, 676, 729, 784, 841, 900, 961, 1024, 1089, 1156, 1225, 1296, 1369, 1444, 1521, 1600, 1681, 1764, 1849, 1936, 2025, 2116, 2209, 2304, 2401]\n"
     ]
    }
   ],
   "source": [
    "# Problem 11\n",
    "\n",
    "list3 = [x**2 for x in range(1,50)]\n",
    "print(list3)"
   ]
  },
  {
   "cell_type": "code",
   "execution_count": 25,
   "metadata": {},
   "outputs": [
    {
     "name": "stdout",
     "output_type": "stream",
     "text": [
      "[7, 8, 120, 25, 44, 20, 27]\n",
      "[120, 25, 44, 27]\n"
     ]
    }
   ],
   "source": [
    "# Problem 12\n",
    "\n",
    "list1 = [7,8, 120, 25, 44, 20, 27]\n",
    "list2 = [x for x in list1 if x > 20]\n",
    "print(list1)\n",
    "print(list2)"
   ]
  },
  {
   "cell_type": "code",
   "execution_count": 43,
   "metadata": {},
   "outputs": [
    {
     "name": "stdout",
     "output_type": "stream",
     "text": [
      "print text: hello\n",
      "hello\n",
      "['h', 'e', 'l', 'l', 'o']\n"
     ]
    }
   ],
   "source": [
    "# Problem 13\n",
    "\n",
    "str1 = input('print text: ')\n",
    "l1 = [ x for x in str1 ]\n",
    "print(str1)\n",
    "print(l1)"
   ]
  },
  {
   "cell_type": "code",
   "execution_count": 45,
   "metadata": {},
   "outputs": [
    {
     "name": "stdout",
     "output_type": "stream",
     "text": [
      "['aba', '1221']\n"
     ]
    }
   ],
   "source": [
    "# Problem 14\n",
    "\n",
    "list1 = ['a', 'abc', 'xyz', 's', 'aba', '1221']\n",
    "list2 = [x for x in list1 if len(x) > 2 if x[0] == x[-1]]\n",
    "print(list2)"
   ]
  }
 ],
 "metadata": {
  "kernelspec": {
   "display_name": "Python 3",
   "language": "python",
   "name": "python3"
  },
  "language_info": {
   "codemirror_mode": {
    "name": "ipython",
    "version": 3
   },
   "file_extension": ".py",
   "mimetype": "text/x-python",
   "name": "python",
   "nbconvert_exporter": "python",
   "pygments_lexer": "ipython3",
   "version": "3.7.4"
  }
 },
 "nbformat": 4,
 "nbformat_minor": 2
}
