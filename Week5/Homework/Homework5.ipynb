{
 "cells": [
  {
   "cell_type": "code",
   "execution_count": 23,
   "metadata": {},
   "outputs": [],
   "source": [
    "# Problem 1\n",
    "\n",
    "def my_max(*argv):\n",
    "    maximum = argv[0] \n",
    "    for arg in argv:\n",
    "        if arg > maximum:\n",
    "            maximum = arg\n",
    "    if argv[0] == 0:\n",
    "        print('no numbers given')\n",
    "    else:\n",
    "        print('Maximum =',maximum)\n",
    "            "
   ]
  },
  {
   "cell_type": "code",
   "execution_count": 34,
   "metadata": {},
   "outputs": [
    {
     "name": "stdout",
     "output_type": "stream",
     "text": [
      "Maximum = -2\n"
     ]
    }
   ],
   "source": [
    "my_max(-2,-5,-20,-50,-10)"
   ]
  },
  {
   "cell_type": "code",
   "execution_count": 28,
   "metadata": {},
   "outputs": [],
   "source": [
    "# Problem 2\n",
    "\n",
    "def func_unique(l1):\n",
    "    return list(set(l1))\n"
   ]
  },
  {
   "cell_type": "code",
   "execution_count": 120,
   "metadata": {},
   "outputs": [
    {
     "data": {
      "text/plain": [
       "[1, 2, 5]"
      ]
     },
     "execution_count": 120,
     "metadata": {},
     "output_type": "execute_result"
    }
   ],
   "source": [
    "func_unique([1,2,5,5,5])"
   ]
  },
  {
   "cell_type": "code",
   "execution_count": 38,
   "metadata": {},
   "outputs": [],
   "source": [
    "# Problem 3\n",
    "\n",
    "def my_fib(n):\n",
    "    if n == 1:\n",
    "        return 0\n",
    "    elif n == 2:\n",
    "        return 1\n",
    "    else:\n",
    "        n1 = 0\n",
    "        n2 = 1\n",
    "        for i in range(3,n+1):\n",
    "            fib = n2 + n1\n",
    "            n1 = n2\n",
    "            n2 = fib\n",
    "        return fib        "
   ]
  },
  {
   "cell_type": "code",
   "execution_count": 40,
   "metadata": {},
   "outputs": [
    {
     "data": {
      "text/plain": [
       "8"
      ]
     },
     "execution_count": 40,
     "metadata": {},
     "output_type": "execute_result"
    }
   ],
   "source": [
    "my_fib(7)"
   ]
  },
  {
   "cell_type": "code",
   "execution_count": 42,
   "metadata": {},
   "outputs": [
    {
     "name": "stdout",
     "output_type": "stream",
     "text": [
      "[1, 10, 15, 3, 20]\n",
      "[11, 0, 5, 13, 10]\n"
     ]
    }
   ],
   "source": [
    "# Problem 4\n",
    "\n",
    "def my_func(n):\n",
    "    if n < 10:\n",
    "        return n + 10\n",
    "    else:\n",
    "        return n - 10\n",
    "\n",
    "list1 = [1,10,15,3,20]\n",
    "list2 = list(map(my_func,list1))\n",
    "print(list1)\n",
    "print(list2)"
   ]
  },
  {
   "cell_type": "code",
   "execution_count": null,
   "metadata": {},
   "outputs": [],
   "source": []
  }
 ],
 "metadata": {
  "kernelspec": {
   "display_name": "Python 3",
   "language": "python",
   "name": "python3"
  },
  "language_info": {
   "codemirror_mode": {
    "name": "ipython",
    "version": 3
   },
   "file_extension": ".py",
   "mimetype": "text/x-python",
   "name": "python",
   "nbconvert_exporter": "python",
   "pygments_lexer": "ipython3",
   "version": "3.7.4"
  }
 },
 "nbformat": 4,
 "nbformat_minor": 2
}
