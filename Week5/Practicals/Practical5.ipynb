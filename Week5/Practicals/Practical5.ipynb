{
 "cells": [
  {
   "cell_type": "code",
   "execution_count": 3,
   "metadata": {},
   "outputs": [],
   "source": [
    "# Problem 1\n",
    "\n",
    "def meanfunc(x,y,z):\n",
    "    if isinstance(x, int) & isinstance(y, int) & isinstance(z, int):\n",
    "        return (x+y+z)/3"
   ]
  },
  {
   "cell_type": "code",
   "execution_count": 4,
   "metadata": {},
   "outputs": [
    {
     "data": {
      "text/plain": [
       "5.0"
      ]
     },
     "execution_count": 4,
     "metadata": {},
     "output_type": "execute_result"
    }
   ],
   "source": [
    "meanfunc(1,5,9)"
   ]
  },
  {
   "cell_type": "code",
   "execution_count": 5,
   "metadata": {},
   "outputs": [],
   "source": [
    "# Problem 2\n",
    "\n",
    "def evenfunc(l1):\n",
    "    length  = len([n for n in l1 if n%2==0])\n",
    "    return length"
   ]
  },
  {
   "cell_type": "code",
   "execution_count": 6,
   "metadata": {},
   "outputs": [
    {
     "data": {
      "text/plain": [
       "5"
      ]
     },
     "execution_count": 6,
     "metadata": {},
     "output_type": "execute_result"
    }
   ],
   "source": [
    "evenfunc([7,8, 20, 25, 44, 50, 60])"
   ]
  },
  {
   "cell_type": "code",
   "execution_count": 111,
   "metadata": {},
   "outputs": [],
   "source": [
    "# Problem 3\n",
    "\n",
    "def passcheck(password):\n",
    "    if (len(password) >= 10) & (len([x for x in password if x.isdigit()]) >= 2):\n",
    "        return True\n",
    "    else:\n",
    "        return False\n",
    "    "
   ]
  },
  {
   "cell_type": "code",
   "execution_count": 116,
   "metadata": {},
   "outputs": [
    {
     "data": {
      "text/plain": [
       "True"
      ]
     },
     "execution_count": 116,
     "metadata": {},
     "output_type": "execute_result"
    }
   ],
   "source": [
    "passcheck('abcdeabcdec12')"
   ]
  },
  {
   "cell_type": "code",
   "execution_count": 9,
   "metadata": {},
   "outputs": [],
   "source": [
    "# Problem 4\n",
    "\n",
    "def defaultName(name, greeting = \"Welcome to our company!\"):\n",
    "    print(name + ', ' +  greeting)"
   ]
  },
  {
   "cell_type": "code",
   "execution_count": 10,
   "metadata": {},
   "outputs": [
    {
     "name": "stdout",
     "output_type": "stream",
     "text": [
      "Anna, Welcome to our company!\n"
     ]
    }
   ],
   "source": [
    "defaultName(name = 'Anna')"
   ]
  },
  {
   "cell_type": "code",
   "execution_count": 11,
   "metadata": {},
   "outputs": [],
   "source": [
    "# Problem 5\n",
    "\n",
    "def func5(name, *argv):\n",
    "    summary = 0\n",
    "    quantity = 0\n",
    "    for arg in argv:\n",
    "        if isinstance(arg, int):\n",
    "            summary += arg\n",
    "            quantity += 1\n",
    "    if quantity > 0:\n",
    "        print(name, 'your average grade is:', summary/quantity)\n",
    "    else:\n",
    "        print('No grades availble for ' + name)"
   ]
  },
  {
   "cell_type": "code",
   "execution_count": 12,
   "metadata": {},
   "outputs": [
    {
     "name": "stdout",
     "output_type": "stream",
     "text": [
      "Anna your average grade is: 4.0\n"
     ]
    }
   ],
   "source": [
    "func5('Anna',3,4,5)"
   ]
  },
  {
   "cell_type": "code",
   "execution_count": 16,
   "metadata": {},
   "outputs": [],
   "source": [
    "# Problem 6\n",
    "\n",
    "def func6(user, **kwargs):\n",
    "    if user == \"admin\":\n",
    "        for key, value in kwargs.items():\n",
    "            print(key, ':', value)\n",
    "    else:\n",
    "        print('Access denied to the user ' + user)"
   ]
  },
  {
   "cell_type": "code",
   "execution_count": 18,
   "metadata": {},
   "outputs": [
    {
     "name": "stdout",
     "output_type": "stream",
     "text": [
      "Arg1name : arg1value\n",
      "Arg2name : arg2value\n",
      "Arg3name : arg3value\n"
     ]
    }
   ],
   "source": [
    "func6('admin', Arg1name = 'arg1value', Arg2name = 'arg2value', Arg3name = 'arg3value')"
   ]
  }
 ],
 "metadata": {
  "kernelspec": {
   "display_name": "Python 3",
   "language": "python",
   "name": "python3"
  },
  "language_info": {
   "codemirror_mode": {
    "name": "ipython",
    "version": 3
   },
   "file_extension": ".py",
   "mimetype": "text/x-python",
   "name": "python",
   "nbconvert_exporter": "python",
   "pygments_lexer": "ipython3",
   "version": "3.7.4"
  }
 },
 "nbformat": 4,
 "nbformat_minor": 2
}
