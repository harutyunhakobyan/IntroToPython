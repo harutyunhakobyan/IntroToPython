{
 "cells": [
  {
   "cell_type": "markdown",
   "metadata": {},
   "source": [
    "# Lists: 1"
   ]
  },
  {
   "cell_type": "code",
   "execution_count": 13,
   "metadata": {},
   "outputs": [
    {
     "name": "stdout",
     "output_type": "stream",
     "text": [
      "input 1:1\n",
      "input 2:2\n",
      "input 3:3\n",
      "['hello', 1, True]\n",
      "['hello', 1, True, '1', '2', '3']\n"
     ]
    }
   ],
   "source": [
    "list1 = ['hello', 1, True]\n",
    "inp1 = input('input 1:')\n",
    "inp2 = input('input 2:')\n",
    "inp3 = input('input 3:')\n",
    "print(list1)\n",
    "list1.append(inp1)\n",
    "list1.append(inp2)\n",
    "list1.append(inp3)\n",
    "print(list1)\n"
   ]
  },
  {
   "cell_type": "markdown",
   "metadata": {},
   "source": [
    "# Lists: 2"
   ]
  },
  {
   "cell_type": "code",
   "execution_count": 15,
   "metadata": {},
   "outputs": [
    {
     "name": "stdout",
     "output_type": "stream",
     "text": [
      "input 1:1\n",
      "input 2:2\n",
      "input 3:3\n",
      "['hello', 1, True]\n",
      "['hello', 1, True, '1', '2', '3']\n"
     ]
    }
   ],
   "source": [
    "list1 = ['hello', 1, True]\n",
    "inp1 = input('input 1: ')\n",
    "inp2 = input('input 2: ')\n",
    "inp3 = input('input 3: ')\n",
    "\n",
    "list1_new = list1.copy()\n",
    "list1_new.append(inp1)\n",
    "list1_new.append(inp2)\n",
    "list1_new.append(inp3)\n",
    "\n",
    "print(list1)\n",
    "print(list1_new)\n"
   ]
  },
  {
   "cell_type": "markdown",
   "metadata": {},
   "source": [
    "# Lists: 3"
   ]
  },
  {
   "cell_type": "code",
   "execution_count": 18,
   "metadata": {},
   "outputs": [
    {
     "name": "stdout",
     "output_type": "stream",
     "text": [
      "input 1:2\n",
      "list2 =  [0, 'hi', 2, 100, 300, 2]\n",
      "Number of 2s = 2\n"
     ]
    }
   ],
   "source": [
    "list2 = [0, 'hi', 2, 100, 300, 2]\n",
    "inp1 = int(input('input 1: '))\n",
    "\n",
    "print('list2 = ', list2)\n",
    "print('Number of 2s =', list2.count(inp1))\n"
   ]
  },
  {
   "cell_type": "markdown",
   "metadata": {},
   "source": [
    "# Lists: 4"
   ]
  },
  {
   "cell_type": "code",
   "execution_count": 26,
   "metadata": {},
   "outputs": [
    {
     "name": "stdout",
     "output_type": "stream",
     "text": [
      "input 1: 2\n",
      "[0, 'hi', 2, 100, 300, 2]\n",
      "[0, 'hi', 100, 300, 2]\n"
     ]
    }
   ],
   "source": [
    "list4 = [0, 'hi', 2, 100, 300, 2]\n",
    "inp1 = int(input('input 1: '))\n",
    "first_occurence = list4.index(inp1)\n",
    "print(list4)\n",
    "del list4[first_occurence]\n",
    "print(list4)"
   ]
  },
  {
   "cell_type": "markdown",
   "metadata": {},
   "source": [
    "# Lists: 5"
   ]
  },
  {
   "cell_type": "code",
   "execution_count": 27,
   "metadata": {},
   "outputs": [
    {
     "name": "stdout",
     "output_type": "stream",
     "text": [
      "[0, 'hi', 2, 100, 300, 2]\n",
      "['hi', 2, 100]\n"
     ]
    }
   ],
   "source": [
    "list5 = [0, 'hi', 2, 100, 300, 2]\n",
    "print(list5)\n",
    "del list5[5]\n",
    "del list5[4]\n",
    "del list5[0]\n",
    "print(list5)"
   ]
  },
  {
   "cell_type": "markdown",
   "metadata": {},
   "source": [
    "# Lists: 6"
   ]
  },
  {
   "cell_type": "code",
   "execution_count": 30,
   "metadata": {},
   "outputs": [
    {
     "name": "stdout",
     "output_type": "stream",
     "text": [
      "[0, 'hi', 2, 100, 300, 2]\n",
      "['hi', 2, 100]\n"
     ]
    }
   ],
   "source": [
    "list5 = [0, 'hi', 2, 100, 300, 2]\n",
    "list5_new = list5.copy()\n",
    "del list5_new[5]\n",
    "del list5_new[4]\n",
    "del list5_new[0]\n",
    "print(list5)\n",
    "print(list5_new)"
   ]
  },
  {
   "cell_type": "markdown",
   "metadata": {},
   "source": [
    "# Lists: 7"
   ]
  },
  {
   "cell_type": "code",
   "execution_count": 34,
   "metadata": {},
   "outputs": [
    {
     "name": "stdout",
     "output_type": "stream",
     "text": [
      "[0, 'hi', 2]\n",
      "[0, 'hi', [100, 300, 2]]\n"
     ]
    }
   ],
   "source": [
    "l1 = [0, 'hi', 2]\n",
    "l2 = [100, 300, 2]\n",
    "print(l1)\n",
    "l1.pop(-1)\n",
    "l1.append(l2)\n",
    "print(l1)"
   ]
  },
  {
   "cell_type": "markdown",
   "metadata": {},
   "source": [
    "# Sets: 8"
   ]
  },
  {
   "cell_type": "code",
   "execution_count": 37,
   "metadata": {},
   "outputs": [
    {
     "name": "stdout",
     "output_type": "stream",
     "text": [
      "input 1: 55\n",
      "{0, 'hi', 2, 100, 300}\n",
      "{0, 'hi', 2, 100, 300, '55'}\n"
     ]
    }
   ],
   "source": [
    "set1 = {0, 'hi', 2, 100, 300}\n",
    "inp1 = input('input 1: ')\n",
    "print(set1)\n",
    "set1.add(inp1)\n",
    "print(set1)"
   ]
  },
  {
   "cell_type": "markdown",
   "metadata": {},
   "source": [
    "# Sets: 9"
   ]
  },
  {
   "cell_type": "code",
   "execution_count": 40,
   "metadata": {},
   "outputs": [
    {
     "name": "stdout",
     "output_type": "stream",
     "text": [
      "input 1: 2\n",
      "{0, 'hi', 2, 100, 300}\n",
      "{0, 'hi', 100, 300}\n"
     ]
    }
   ],
   "source": [
    "set2 = {0, 'hi', 2, 100, 300}\n",
    "inp1 = int(input('input 1: '))\n",
    "print(set2)\n",
    "set2.remove(inp1)\n",
    "print(set2)"
   ]
  },
  {
   "cell_type": "markdown",
   "metadata": {},
   "source": [
    "# Sets: 10"
   ]
  },
  {
   "cell_type": "code",
   "execution_count": 42,
   "metadata": {},
   "outputs": [
    {
     "name": "stdout",
     "output_type": "stream",
     "text": [
      "input 1: 3\n",
      "{0, 'hi', 2, 100, 300}\n",
      "{0, 'hi', 2, 100, 300}\n"
     ]
    }
   ],
   "source": [
    "set2 = {0, 'hi', 2, 100, 300}\n",
    "inp1 = int(input('input 1: '))\n",
    "print(set2)\n",
    "set2.discard(inp1)\n",
    "print(set2)"
   ]
  },
  {
   "cell_type": "markdown",
   "metadata": {},
   "source": [
    "# Sets: 11"
   ]
  },
  {
   "cell_type": "code",
   "execution_count": 44,
   "metadata": {},
   "outputs": [
    {
     "name": "stdout",
     "output_type": "stream",
     "text": [
      "{0, 1, 'hi', 2, 100, 5, 3, 7, 9, 300}\n",
      "{0, 2, 5, 7}\n"
     ]
    }
   ],
   "source": [
    "set1 = {0, 'hi', 2, 100, 300, 5, 7}\n",
    "set2 = {0, 1, 2, 3, 5, 7, 9}\n",
    "print(set1.union(set2))\n",
    "print(set1.intersection(set2))"
   ]
  },
  {
   "cell_type": "markdown",
   "metadata": {},
   "source": [
    "# Sets: 12"
   ]
  },
  {
   "cell_type": "code",
   "execution_count": 57,
   "metadata": {},
   "outputs": [
    {
     "name": "stdout",
     "output_type": "stream",
     "text": [
      "input 1: 10\n",
      "[1, 3, 5, 7, 9]\n",
      "False\n"
     ]
    }
   ],
   "source": [
    "set3 = set([1, 3, 5, 7, 9])\n",
    "inp1 = int(input('input 1: '))\n",
    "list3 = list(set3)\n",
    "print(list3)\n",
    "print(min(list3) < inp1 and inp1 < max(list3))\n"
   ]
  },
  {
   "cell_type": "markdown",
   "metadata": {},
   "source": [
    "# Tuples: 13"
   ]
  },
  {
   "cell_type": "code",
   "execution_count": 62,
   "metadata": {},
   "outputs": [
    {
     "name": "stdout",
     "output_type": "stream",
     "text": [
      "300\n",
      "100\n"
     ]
    },
    {
     "data": {
      "text/plain": [
       "(None, None)"
      ]
     },
     "execution_count": 62,
     "metadata": {},
     "output_type": "execute_result"
    }
   ],
   "source": [
    "t1 = (0, 'hi', 2, 100, 300, 5, 7)\n",
    "print(t1[4]), print(t1[-4])"
   ]
  },
  {
   "cell_type": "markdown",
   "metadata": {},
   "source": [
    "# Tuples: 14"
   ]
  },
  {
   "cell_type": "code",
   "execution_count": 67,
   "metadata": {},
   "outputs": [
    {
     "name": "stdout",
     "output_type": "stream",
     "text": [
      "(0, 'hi', 2, 100, 300, 5, 7)\n",
      "(0, 'hi', 2, 100, 'hello', 5, 7)\n"
     ]
    }
   ],
   "source": [
    "t2 = (0, 'hi', 2, 100, 300, 5, 7)\n",
    "print(t2)\n",
    "l2 = list(t2)\n",
    "l2.pop(4)\n",
    "l2.insert(4, 'hello')\n",
    "t2_new = tuple(l2)\n",
    "print(t2_new)"
   ]
  },
  {
   "cell_type": "markdown",
   "metadata": {},
   "source": [
    "# Dictionaries: 15"
   ]
  },
  {
   "cell_type": "code",
   "execution_count": 72,
   "metadata": {},
   "outputs": [
    {
     "name": "stdout",
     "output_type": "stream",
     "text": [
      "key: key3\n",
      "value: c\n",
      "{'key1': 'a', 'key2': 'b'}\n",
      "{'key1': 'a', 'key2': 'b', 'key3': 'c'}\n"
     ]
    }
   ],
   "source": [
    "dict1 = {'key1':'a','key2':'b'}\n",
    "key = input('key: ')\n",
    "value = input('value: ')\n",
    "print(dict1)\n",
    "dict1[key] = value\n",
    "print(dict1)\n"
   ]
  },
  {
   "cell_type": "markdown",
   "metadata": {},
   "source": [
    "# Dictionaries: 16"
   ]
  },
  {
   "cell_type": "code",
   "execution_count": 78,
   "metadata": {},
   "outputs": [
    {
     "name": "stdout",
     "output_type": "stream",
     "text": [
      "<class 'tuple'>\n",
      "{1: 'a', 2: 'b', 3: 'c'}\n",
      "Type of d1:  <class 'dict'>\n"
     ]
    }
   ],
   "source": [
    "l1 = tuple([(1, \"a\"), (2,\"b\"), (3, \"c\")])\n",
    "d1 = dict(l1)\n",
    "print(d1)\n",
    "print('Type of d1: ', type(d1))"
   ]
  }
 ],
 "metadata": {
  "kernelspec": {
   "display_name": "Python 3",
   "language": "python",
   "name": "python3"
  },
  "language_info": {
   "codemirror_mode": {
    "name": "ipython",
    "version": 3
   },
   "file_extension": ".py",
   "mimetype": "text/x-python",
   "name": "python",
   "nbconvert_exporter": "python",
   "pygments_lexer": "ipython3",
   "version": "3.7.4"
  }
 },
 "nbformat": 4,
 "nbformat_minor": 2
}
