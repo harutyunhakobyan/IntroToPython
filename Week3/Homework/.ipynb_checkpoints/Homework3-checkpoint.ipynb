{
 "cells": [
  {
   "cell_type": "markdown",
   "metadata": {},
   "source": [
    "# Homework"
   ]
  },
  {
   "cell_type": "code",
   "execution_count": 1,
   "metadata": {},
   "outputs": [
    {
     "name": "stdout",
     "output_type": "stream",
     "text": [
      "7\n",
      "-2 \n",
      "\n",
      "[8, 7, 5, 4, 1, 0, -1, -2] \n",
      "\n",
      "[7, 5]\n",
      "[5, 4, 1, 0] \n",
      "\n",
      "[8, 7, 5, 4, 1, 0, -1, -2] \n",
      "\n",
      "[8, 7, 1, 0, -1, -2] \n",
      "\n",
      "['Broccoli', 'Carrot', 'Lemon', 'Orange', 'Potatoes', 'Sausages', 'grapes', 'tomatoes'] \n",
      "\n",
      "[4, 5, 'Lemon', 'Broccoli']\n"
     ]
    }
   ],
   "source": [
    "#Lists\n",
    "\n",
    "a = [1, 4, 5, 7, 8, -2, 0, -1]\n",
    "\n",
    "print(a[3])\n",
    "print(a[5], '\\n')\n",
    "\n",
    "a_sorted = a.copy()\n",
    "a_sorted.sort(reverse = True)\n",
    "print(a_sorted, '\\n')\n",
    "\n",
    "print(a_sorted[1:3])\n",
    "print(a_sorted[2:6], '\\n')\n",
    "print(a_sorted, '\\n')\n",
    "\n",
    "del a_sorted[2:4]\n",
    "\n",
    "print(a_sorted, '\\n')\n",
    "\n",
    "b = [\"grapes\", \"Potatoes\", \"tomatoes\", \"Orange\", \"Lemon\", \"Broccoli\", \"Carrot\", \"Sausages\"]\n",
    "\n",
    "b_sorted = b.copy()\n",
    "b_sorted.sort()\n",
    "print(b_sorted, '\\n')\n",
    "\n",
    "c = a[1:3] + b[4:6]\n",
    "\n",
    "print(c)"
   ]
  },
  {
   "cell_type": "code",
   "execution_count": 2,
   "metadata": {},
   "outputs": [
    {
     "name": "stdout",
     "output_type": "stream",
     "text": [
      "{False, True, 'Cookies', 8, 10, 14, 'Chocolate', 'Milk', 'Jelly', -5, -3}\n",
      "{False, True, 'Chocolate', 8}\n",
      "{False, True, 'Cookies', 8, 10, 14, 'Oreo', 'Chocolate', 'Milk', 'Jelly', -5, 'Kit-Kat', -3}\n",
      "{False, True, 'Cookies', 8, 10, 14, 'Oreo', 'Chocolate', 'Milk', 'Jelly', -5, 'Kit-Kat', -3}\n",
      "True\n",
      "{False, True, 'Cookies', 8, 10, 14, 'Chocolate', 'Milk', 'Jelly', -5, 'Kit-Kat', -3}\n"
     ]
    }
   ],
   "source": [
    "#Sets\n",
    "\n",
    "a1 = [\"Cookies\", \"Chocolate\", 8, True, -3, -5, \"Chocolate\", 8, False, 8]\n",
    "\n",
    "b1 = [8, True, 10, 14, \"Chocolate\", \"Milk\", \"Jelly\", True, False, True]\n",
    "\n",
    "set_a = set(a1)\n",
    "\n",
    "set_b = set(b1)\n",
    "\n",
    "union_ab = set_a.union(set_b)\n",
    "\n",
    "print(union_ab)\n",
    "\n",
    "intersection_ab = set_a.intersection(set_b)\n",
    "\n",
    "print(intersection_ab)\n",
    "\n",
    "union_ab.add('Kit-Kat')\n",
    "union_ab.add('Oreo')\n",
    "print(union_ab)\n",
    "\n",
    "new_set = union_ab | intersection_ab\n",
    "print(new_set)\n",
    "\n",
    "print('Chocolate' in new_set)\n",
    "\n",
    "new_set.remove('Oreo')\n",
    "print(new_set)"
   ]
  },
  {
   "cell_type": "code",
   "execution_count": 26,
   "metadata": {},
   "outputs": [
    {
     "name": "stdout",
     "output_type": "stream",
     "text": [
      "t1 =  (1, 'a', -2, 'Anna') \n",
      "\n",
      "t3 =  (1, 'a', 1, 2, 3) \n",
      "\n",
      "t3[2] =  1 \n",
      "\n",
      "t4[0][1] =  3\n"
     ]
    }
   ],
   "source": [
    "#Tuples\n",
    "\n",
    "t1 = (1, True, \"a\", -2, \"Anna\")\n",
    "\n",
    "l1 = list(t1)\n",
    "del l1[1]\n",
    "t1 = tuple(l1)\n",
    "print('t1 = ', t1, '\\n')\n",
    "\n",
    "t2 = (1, 2, 3, 4, 5)\n",
    "\n",
    "t3 = tuple(t1[:2] + t2[:3])\n",
    "print('t3 = ', t3, '\\n')\n",
    "\n",
    "print('t3[2] = ',t3[2], '\\n')\n",
    "\n",
    "t4 = tuple([(1,3,5), (8,9), (\"Anna\", \"Bob\",\"Alice\")])\n",
    "print('t4[0][1] = ',t4[0][1])\n"
   ]
  },
  {
   "cell_type": "code",
   "execution_count": 42,
   "metadata": {},
   "outputs": [
    {
     "name": "stdout",
     "output_type": "stream",
     "text": [
      "{'dairy': ['yogurt', 'cheese'], 'fruits': ['banana', 'apple', 'orange', 'lemon', 'apple', 'banana', 'banana']}\n",
      "{'dairy': ['yogurt', 'cheese'], 'fruits': ['apple', 'banana', 'lemon', 'orange'], 'candies': ['mars', 'kinder', 'twix']}\n"
     ]
    }
   ],
   "source": [
    "#Dictionaries\n",
    "\n",
    "market = {\"dairy\":[\"yogurt\", \"cheese\"], \"fruits\": ['banana', 'apple', 'orange', 'lemon', 'apple', 'banana','banana']}\n",
    "print(market)\n",
    "\n",
    "market[\"candies\"] = ['mars', 'kinder', 'twix']\n",
    "\n",
    "set1 = set(market[\"fruits\"])\n",
    "list1 = list(set1)\n",
    "list1.sort()\n",
    "market[\"fruits\"] = list1\n",
    "\n",
    "print(market)"
   ]
  },
  {
   "cell_type": "code",
   "execution_count": null,
   "metadata": {},
   "outputs": [],
   "source": []
  }
 ],
 "metadata": {
  "kernelspec": {
   "display_name": "Python 3",
   "language": "python",
   "name": "python3"
  },
  "language_info": {
   "codemirror_mode": {
    "name": "ipython",
    "version": 3
   },
   "file_extension": ".py",
   "mimetype": "text/x-python",
   "name": "python",
   "nbconvert_exporter": "python",
   "pygments_lexer": "ipython3",
   "version": "3.7.4"
  }
 },
 "nbformat": 4,
 "nbformat_minor": 2
}
